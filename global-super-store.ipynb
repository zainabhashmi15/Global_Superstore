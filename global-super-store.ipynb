{
 "cells": [
  {
   "cell_type": "code",
   "execution_count": 1,
   "id": "abad03a0",
   "metadata": {
    "execution": {
     "iopub.execute_input": "2023-07-18T07:43:01.194190Z",
     "iopub.status.busy": "2023-07-18T07:43:01.193359Z",
     "iopub.status.idle": "2023-07-18T07:43:01.223723Z",
     "shell.execute_reply": "2023-07-18T07:43:01.222619Z"
    },
    "id": "oSCVM8lNkWHP",
    "papermill": {
     "duration": 0.044007,
     "end_time": "2023-07-18T07:43:01.226602",
     "exception": false,
     "start_time": "2023-07-18T07:43:01.182595",
     "status": "completed"
    },
    "tags": []
   },
   "outputs": [
    {
     "name": "stdout",
     "output_type": "stream",
     "text": [
      "/kaggle/input/global-superstore/global_superstore.xlsx\n"
     ]
    }
   ],
   "source": [
    "# This Python 3 environment comes with many helpful analytics libraries installed\n",
    "# It is defined by the kaggle/python Docker image: https://github.com/kaggle/docker-python\n",
    "# For example, here's several helpful packages to load\n",
    "\n",
    "import numpy as np # linear algebra\n",
    "import pandas as pd # data processing, CSV file I/O (e.g. pd.read_csv)\n",
    "\n",
    "# Input data files are available in the read-only \"../input/\" directory\n",
    "# For example, running this (by clicking run or pressing Shift+Enter) will list all files under the input directory\n",
    "\n",
    "import os\n",
    "for dirname, _, filenames in os.walk('/kaggle/input'):\n",
    "    for filename in filenames:\n",
    "        print(os.path.join(dirname, filename))\n",
    "\n",
    "# You can write up to 20GB to the current directory (/kaggle/working/) that gets preserved as output when you create a version using \"Save & Run All\" \n",
    "# You can also write temporary files to /kaggle/temp/, but they won't be saved outside of the current session"
   ]
  },
  {
   "cell_type": "code",
   "execution_count": 2,
   "id": "307e00df",
   "metadata": {
    "execution": {
     "iopub.execute_input": "2023-07-18T07:43:01.245699Z",
     "iopub.status.busy": "2023-07-18T07:43:01.244917Z",
     "iopub.status.idle": "2023-07-18T07:43:02.877075Z",
     "shell.execute_reply": "2023-07-18T07:43:02.875997Z"
    },
    "papermill": {
     "duration": 1.645198,
     "end_time": "2023-07-18T07:43:02.880230",
     "exception": false,
     "start_time": "2023-07-18T07:43:01.235032",
     "status": "completed"
    },
    "tags": []
   },
   "outputs": [
    {
     "name": "stderr",
     "output_type": "stream",
     "text": [
      "/opt/conda/lib/python3.10/site-packages/scipy/__init__.py:146: UserWarning: A NumPy version >=1.16.5 and <1.23.0 is required for this version of SciPy (detected version 1.23.5\n",
      "  warnings.warn(f\"A NumPy version >={np_minversion} and <{np_maxversion}\"\n"
     ]
    }
   ],
   "source": [
    "# import packages\n",
    "\n",
    "import pandas as pd\n",
    "import numpy as np\n",
    "import seaborn as sns\n",
    "import matplotlib.pyplot as plt\n",
    "%matplotlib inline"
   ]
  },
  {
   "cell_type": "code",
   "execution_count": 3,
   "id": "f8ffc252",
   "metadata": {
    "execution": {
     "iopub.execute_input": "2023-07-18T07:43:02.899004Z",
     "iopub.status.busy": "2023-07-18T07:43:02.898287Z",
     "iopub.status.idle": "2023-07-18T07:43:30.964037Z",
     "shell.execute_reply": "2023-07-18T07:43:30.962694Z"
    },
    "id": "31EODp1xrWiy",
    "papermill": {
     "duration": 28.078737,
     "end_time": "2023-07-18T07:43:30.967234",
     "exception": false,
     "start_time": "2023-07-18T07:43:02.888497",
     "status": "completed"
    },
    "tags": []
   },
   "outputs": [],
   "source": [
    "# Import dataset\n",
    "df = pd.read_excel('/kaggle/input/global-superstore/global_superstore.xlsx')"
   ]
  },
  {
   "cell_type": "code",
   "execution_count": 4,
   "id": "92760ed5",
   "metadata": {
    "execution": {
     "iopub.execute_input": "2023-07-18T07:43:30.986295Z",
     "iopub.status.busy": "2023-07-18T07:43:30.985559Z",
     "iopub.status.idle": "2023-07-18T07:43:30.991952Z",
     "shell.execute_reply": "2023-07-18T07:43:30.990593Z"
    },
    "id": "OSuInnKD3nSV",
    "papermill": {
     "duration": 0.018707,
     "end_time": "2023-07-18T07:43:30.994733",
     "exception": false,
     "start_time": "2023-07-18T07:43:30.976026",
     "status": "completed"
    },
    "tags": []
   },
   "outputs": [],
   "source": [
    "# convert column names to lower case\n",
    "df.columns = df.columns.str.lower()"
   ]
  },
  {
   "cell_type": "code",
   "execution_count": 5,
   "id": "162d8381",
   "metadata": {
    "execution": {
     "iopub.execute_input": "2023-07-18T07:43:31.013418Z",
     "iopub.status.busy": "2023-07-18T07:43:31.013044Z",
     "iopub.status.idle": "2023-07-18T07:43:31.020357Z",
     "shell.execute_reply": "2023-07-18T07:43:31.019548Z"
    },
    "id": "LRWXtJJZ3zv-",
    "outputId": "d6a966d2-b06e-4be0-d71f-427fc2be9382",
    "papermill": {
     "duration": 0.019445,
     "end_time": "2023-07-18T07:43:31.022495",
     "exception": false,
     "start_time": "2023-07-18T07:43:31.003050",
     "status": "completed"
    },
    "tags": []
   },
   "outputs": [
    {
     "data": {
      "text/plain": [
       "Index(['row id', 'order id', 'order date', 'ship date', 'ship mode',\n",
       "       'customer id', 'customer name', 'segment', 'city', 'state', 'country',\n",
       "       'postal code', 'market', 'region', 'product id', 'category',\n",
       "       'sub-category', 'product name', 'sales', 'quantity', 'discount',\n",
       "       'profit', 'shipping cost', 'order priority'],\n",
       "      dtype='object')"
      ]
     },
     "execution_count": 5,
     "metadata": {},
     "output_type": "execute_result"
    }
   ],
   "source": [
    "df.columns"
   ]
  },
  {
   "cell_type": "code",
   "execution_count": 6,
   "id": "c34efe8a",
   "metadata": {
    "execution": {
     "iopub.execute_input": "2023-07-18T07:43:31.040962Z",
     "iopub.status.busy": "2023-07-18T07:43:31.040194Z",
     "iopub.status.idle": "2023-07-18T07:43:31.103520Z",
     "shell.execute_reply": "2023-07-18T07:43:31.102156Z"
    },
    "id": "X8S7ijJ_uNHV",
    "outputId": "7d656196-70b3-4af3-b737-b0136793f40c",
    "papermill": {
     "duration": 0.075489,
     "end_time": "2023-07-18T07:43:31.106082",
     "exception": false,
     "start_time": "2023-07-18T07:43:31.030593",
     "status": "completed"
    },
    "tags": []
   },
   "outputs": [
    {
     "data": {
      "text/html": [
       "<div>\n",
       "<style scoped>\n",
       "    .dataframe tbody tr th:only-of-type {\n",
       "        vertical-align: middle;\n",
       "    }\n",
       "\n",
       "    .dataframe tbody tr th {\n",
       "        vertical-align: top;\n",
       "    }\n",
       "\n",
       "    .dataframe thead th {\n",
       "        text-align: right;\n",
       "    }\n",
       "</style>\n",
       "<table border=\"1\" class=\"dataframe\">\n",
       "  <thead>\n",
       "    <tr style=\"text-align: right;\">\n",
       "      <th></th>\n",
       "      <th>row id</th>\n",
       "      <th>order id</th>\n",
       "      <th>order date</th>\n",
       "      <th>ship date</th>\n",
       "      <th>ship mode</th>\n",
       "      <th>customer id</th>\n",
       "      <th>customer name</th>\n",
       "      <th>segment</th>\n",
       "      <th>city</th>\n",
       "      <th>state</th>\n",
       "      <th>...</th>\n",
       "      <th>product id</th>\n",
       "      <th>category</th>\n",
       "      <th>sub-category</th>\n",
       "      <th>product name</th>\n",
       "      <th>sales</th>\n",
       "      <th>quantity</th>\n",
       "      <th>discount</th>\n",
       "      <th>profit</th>\n",
       "      <th>shipping cost</th>\n",
       "      <th>order priority</th>\n",
       "    </tr>\n",
       "  </thead>\n",
       "  <tbody>\n",
       "    <tr>\n",
       "      <th>0</th>\n",
       "      <td>32298</td>\n",
       "      <td>CA-2012-124891</td>\n",
       "      <td>2012-07-31</td>\n",
       "      <td>2012-07-31</td>\n",
       "      <td>Same Day</td>\n",
       "      <td>RH-19495</td>\n",
       "      <td>Rick Hansen</td>\n",
       "      <td>Consumer</td>\n",
       "      <td>New York City</td>\n",
       "      <td>New York</td>\n",
       "      <td>...</td>\n",
       "      <td>TEC-AC-10003033</td>\n",
       "      <td>Technology</td>\n",
       "      <td>Accessories</td>\n",
       "      <td>Plantronics CS510 - Over-the-Head monaural Wir...</td>\n",
       "      <td>2309.650</td>\n",
       "      <td>7</td>\n",
       "      <td>0.0</td>\n",
       "      <td>762.1845</td>\n",
       "      <td>933.57</td>\n",
       "      <td>Critical</td>\n",
       "    </tr>\n",
       "    <tr>\n",
       "      <th>1</th>\n",
       "      <td>26341</td>\n",
       "      <td>IN-2013-77878</td>\n",
       "      <td>2013-02-05</td>\n",
       "      <td>2013-02-07</td>\n",
       "      <td>Second Class</td>\n",
       "      <td>JR-16210</td>\n",
       "      <td>Justin Ritter</td>\n",
       "      <td>Corporate</td>\n",
       "      <td>Wollongong</td>\n",
       "      <td>New South Wales</td>\n",
       "      <td>...</td>\n",
       "      <td>FUR-CH-10003950</td>\n",
       "      <td>Furniture</td>\n",
       "      <td>Chairs</td>\n",
       "      <td>Novimex Executive Leather Armchair, Black</td>\n",
       "      <td>3709.395</td>\n",
       "      <td>9</td>\n",
       "      <td>0.1</td>\n",
       "      <td>-288.7650</td>\n",
       "      <td>923.63</td>\n",
       "      <td>Critical</td>\n",
       "    </tr>\n",
       "    <tr>\n",
       "      <th>2</th>\n",
       "      <td>25330</td>\n",
       "      <td>IN-2013-71249</td>\n",
       "      <td>2013-10-17</td>\n",
       "      <td>2013-10-18</td>\n",
       "      <td>First Class</td>\n",
       "      <td>CR-12730</td>\n",
       "      <td>Craig Reiter</td>\n",
       "      <td>Consumer</td>\n",
       "      <td>Brisbane</td>\n",
       "      <td>Queensland</td>\n",
       "      <td>...</td>\n",
       "      <td>TEC-PH-10004664</td>\n",
       "      <td>Technology</td>\n",
       "      <td>Phones</td>\n",
       "      <td>Nokia Smart Phone, with Caller ID</td>\n",
       "      <td>5175.171</td>\n",
       "      <td>9</td>\n",
       "      <td>0.1</td>\n",
       "      <td>919.9710</td>\n",
       "      <td>915.49</td>\n",
       "      <td>Medium</td>\n",
       "    </tr>\n",
       "    <tr>\n",
       "      <th>3</th>\n",
       "      <td>13524</td>\n",
       "      <td>ES-2013-1579342</td>\n",
       "      <td>2013-01-28</td>\n",
       "      <td>2013-01-30</td>\n",
       "      <td>First Class</td>\n",
       "      <td>KM-16375</td>\n",
       "      <td>Katherine Murray</td>\n",
       "      <td>Home Office</td>\n",
       "      <td>Berlin</td>\n",
       "      <td>Berlin</td>\n",
       "      <td>...</td>\n",
       "      <td>TEC-PH-10004583</td>\n",
       "      <td>Technology</td>\n",
       "      <td>Phones</td>\n",
       "      <td>Motorola Smart Phone, Cordless</td>\n",
       "      <td>2892.510</td>\n",
       "      <td>5</td>\n",
       "      <td>0.1</td>\n",
       "      <td>-96.5400</td>\n",
       "      <td>910.16</td>\n",
       "      <td>Medium</td>\n",
       "    </tr>\n",
       "    <tr>\n",
       "      <th>4</th>\n",
       "      <td>47221</td>\n",
       "      <td>SG-2013-4320</td>\n",
       "      <td>2013-11-05</td>\n",
       "      <td>2013-11-06</td>\n",
       "      <td>Same Day</td>\n",
       "      <td>RH-9495</td>\n",
       "      <td>Rick Hansen</td>\n",
       "      <td>Consumer</td>\n",
       "      <td>Dakar</td>\n",
       "      <td>Dakar</td>\n",
       "      <td>...</td>\n",
       "      <td>TEC-SHA-10000501</td>\n",
       "      <td>Technology</td>\n",
       "      <td>Copiers</td>\n",
       "      <td>Sharp Wireless Fax, High-Speed</td>\n",
       "      <td>2832.960</td>\n",
       "      <td>8</td>\n",
       "      <td>0.0</td>\n",
       "      <td>311.5200</td>\n",
       "      <td>903.04</td>\n",
       "      <td>Critical</td>\n",
       "    </tr>\n",
       "  </tbody>\n",
       "</table>\n",
       "<p>5 rows × 24 columns</p>\n",
       "</div>"
      ],
      "text/plain": [
       "   row id         order id order date  ship date     ship mode customer id  \\\n",
       "0   32298   CA-2012-124891 2012-07-31 2012-07-31      Same Day    RH-19495   \n",
       "1   26341    IN-2013-77878 2013-02-05 2013-02-07  Second Class    JR-16210   \n",
       "2   25330    IN-2013-71249 2013-10-17 2013-10-18   First Class    CR-12730   \n",
       "3   13524  ES-2013-1579342 2013-01-28 2013-01-30   First Class    KM-16375   \n",
       "4   47221     SG-2013-4320 2013-11-05 2013-11-06      Same Day     RH-9495   \n",
       "\n",
       "      customer name      segment           city            state  ...  \\\n",
       "0       Rick Hansen     Consumer  New York City         New York  ...   \n",
       "1     Justin Ritter    Corporate     Wollongong  New South Wales  ...   \n",
       "2      Craig Reiter     Consumer       Brisbane       Queensland  ...   \n",
       "3  Katherine Murray  Home Office         Berlin           Berlin  ...   \n",
       "4       Rick Hansen     Consumer          Dakar            Dakar  ...   \n",
       "\n",
       "         product id    category sub-category  \\\n",
       "0   TEC-AC-10003033  Technology  Accessories   \n",
       "1   FUR-CH-10003950   Furniture       Chairs   \n",
       "2   TEC-PH-10004664  Technology       Phones   \n",
       "3   TEC-PH-10004583  Technology       Phones   \n",
       "4  TEC-SHA-10000501  Technology      Copiers   \n",
       "\n",
       "                                        product name     sales quantity  \\\n",
       "0  Plantronics CS510 - Over-the-Head monaural Wir...  2309.650        7   \n",
       "1          Novimex Executive Leather Armchair, Black  3709.395        9   \n",
       "2                  Nokia Smart Phone, with Caller ID  5175.171        9   \n",
       "3                     Motorola Smart Phone, Cordless  2892.510        5   \n",
       "4                     Sharp Wireless Fax, High-Speed  2832.960        8   \n",
       "\n",
       "  discount    profit  shipping cost  order priority  \n",
       "0      0.0  762.1845         933.57        Critical  \n",
       "1      0.1 -288.7650         923.63        Critical  \n",
       "2      0.1  919.9710         915.49          Medium  \n",
       "3      0.1  -96.5400         910.16          Medium  \n",
       "4      0.0  311.5200         903.04        Critical  \n",
       "\n",
       "[5 rows x 24 columns]"
      ]
     },
     "execution_count": 6,
     "metadata": {},
     "output_type": "execute_result"
    }
   ],
   "source": [
    "# check first 5 observations\n",
    "df.head()"
   ]
  },
  {
   "cell_type": "code",
   "execution_count": 7,
   "id": "b673466d",
   "metadata": {
    "execution": {
     "iopub.execute_input": "2023-07-18T07:43:31.126160Z",
     "iopub.status.busy": "2023-07-18T07:43:31.124865Z",
     "iopub.status.idle": "2023-07-18T07:43:31.132116Z",
     "shell.execute_reply": "2023-07-18T07:43:31.130945Z"
    },
    "id": "SJP4-Bej2Kva",
    "outputId": "606a1fe9-2a27-4aa9-cd0a-029826d7537c",
    "papermill": {
     "duration": 0.019316,
     "end_time": "2023-07-18T07:43:31.134336",
     "exception": false,
     "start_time": "2023-07-18T07:43:31.115020",
     "status": "completed"
    },
    "tags": []
   },
   "outputs": [
    {
     "data": {
      "text/plain": [
       "(51290, 24)"
      ]
     },
     "execution_count": 7,
     "metadata": {},
     "output_type": "execute_result"
    }
   ],
   "source": [
    "# check rows and columns\n",
    "df.shape"
   ]
  },
  {
   "cell_type": "code",
   "execution_count": 8,
   "id": "cf26e262",
   "metadata": {
    "execution": {
     "iopub.execute_input": "2023-07-18T07:43:31.155813Z",
     "iopub.status.busy": "2023-07-18T07:43:31.155401Z",
     "iopub.status.idle": "2023-07-18T07:43:31.164113Z",
     "shell.execute_reply": "2023-07-18T07:43:31.162836Z"
    },
    "id": "NKQfPmX5v7z8",
    "outputId": "6859f241-f05a-409e-c878-6c25799a2728",
    "papermill": {
     "duration": 0.02324,
     "end_time": "2023-07-18T07:43:31.166692",
     "exception": false,
     "start_time": "2023-07-18T07:43:31.143452",
     "status": "completed"
    },
    "tags": []
   },
   "outputs": [
    {
     "data": {
      "text/plain": [
       "row id                     int64\n",
       "order id                  object\n",
       "order date        datetime64[ns]\n",
       "ship date         datetime64[ns]\n",
       "ship mode                 object\n",
       "customer id               object\n",
       "customer name             object\n",
       "segment                   object\n",
       "city                      object\n",
       "state                     object\n",
       "country                   object\n",
       "postal code              float64\n",
       "market                    object\n",
       "region                    object\n",
       "product id                object\n",
       "category                  object\n",
       "sub-category              object\n",
       "product name              object\n",
       "sales                    float64\n",
       "quantity                   int64\n",
       "discount                 float64\n",
       "profit                   float64\n",
       "shipping cost            float64\n",
       "order priority            object\n",
       "dtype: object"
      ]
     },
     "execution_count": 8,
     "metadata": {},
     "output_type": "execute_result"
    }
   ],
   "source": [
    "# check dtypes\n",
    "df.dtypes"
   ]
  },
  {
   "cell_type": "code",
   "execution_count": 9,
   "id": "ab52674f",
   "metadata": {
    "execution": {
     "iopub.execute_input": "2023-07-18T07:43:31.188188Z",
     "iopub.status.busy": "2023-07-18T07:43:31.186915Z",
     "iopub.status.idle": "2023-07-18T07:43:31.448265Z",
     "shell.execute_reply": "2023-07-18T07:43:31.447252Z"
    },
    "id": "_B2WkADBzWy5",
    "outputId": "9d89b036-68c9-4ba4-ded6-d55a7357924e",
    "papermill": {
     "duration": 0.274214,
     "end_time": "2023-07-18T07:43:31.450640",
     "exception": false,
     "start_time": "2023-07-18T07:43:31.176426",
     "status": "completed"
    },
    "tags": []
   },
   "outputs": [
    {
     "data": {
      "text/plain": [
       "row id                0\n",
       "order id              0\n",
       "order date            0\n",
       "ship date             0\n",
       "ship mode             0\n",
       "customer id           0\n",
       "customer name         0\n",
       "segment               0\n",
       "city                  0\n",
       "state                 0\n",
       "country               0\n",
       "postal code       41296\n",
       "market                0\n",
       "region                0\n",
       "product id            0\n",
       "category              0\n",
       "sub-category          0\n",
       "product name          0\n",
       "sales                 0\n",
       "quantity              0\n",
       "discount              0\n",
       "profit                0\n",
       "shipping cost         0\n",
       "order priority        0\n",
       "dtype: int64"
      ]
     },
     "execution_count": 9,
     "metadata": {},
     "output_type": "execute_result"
    }
   ],
   "source": [
    "# check if the dataset has null values\n",
    "df.isnull().sum()"
   ]
  },
  {
   "cell_type": "code",
   "execution_count": 10,
   "id": "1536b434",
   "metadata": {
    "execution": {
     "iopub.execute_input": "2023-07-18T07:43:31.471517Z",
     "iopub.status.busy": "2023-07-18T07:43:31.470854Z",
     "iopub.status.idle": "2023-07-18T07:43:31.486912Z",
     "shell.execute_reply": "2023-07-18T07:43:31.485962Z"
    },
    "id": "Bfv9RsL0inzQ",
    "papermill": {
     "duration": 0.029455,
     "end_time": "2023-07-18T07:43:31.489525",
     "exception": false,
     "start_time": "2023-07-18T07:43:31.460070",
     "status": "completed"
    },
    "tags": []
   },
   "outputs": [],
   "source": [
    "# drop column postal code because it's of no use\n",
    "df.drop(columns=['postal code'],inplace = True, axis = 1)"
   ]
  },
  {
   "cell_type": "code",
   "execution_count": 11,
   "id": "17e0a31a",
   "metadata": {
    "execution": {
     "iopub.execute_input": "2023-07-18T07:43:31.511058Z",
     "iopub.status.busy": "2023-07-18T07:43:31.510340Z",
     "iopub.status.idle": "2023-07-18T07:43:31.516640Z",
     "shell.execute_reply": "2023-07-18T07:43:31.515439Z"
    },
    "id": "PLLvbZLbi-Dt",
    "outputId": "775aeec9-c439-4709-9871-786145eb43bd",
    "papermill": {
     "duration": 0.019591,
     "end_time": "2023-07-18T07:43:31.518827",
     "exception": false,
     "start_time": "2023-07-18T07:43:31.499236",
     "status": "completed"
    },
    "tags": []
   },
   "outputs": [
    {
     "data": {
      "text/plain": [
       "(51290, 23)"
      ]
     },
     "execution_count": 11,
     "metadata": {},
     "output_type": "execute_result"
    }
   ],
   "source": [
    "# check row and column to know if the column is deleted\n",
    "df.shape"
   ]
  },
  {
   "cell_type": "code",
   "execution_count": 12,
   "id": "1cf4dac4",
   "metadata": {
    "execution": {
     "iopub.execute_input": "2023-07-18T07:43:31.539969Z",
     "iopub.status.busy": "2023-07-18T07:43:31.539196Z",
     "iopub.status.idle": "2023-07-18T07:43:31.587978Z",
     "shell.execute_reply": "2023-07-18T07:43:31.586824Z"
    },
    "id": "VncZuYuU17xh",
    "outputId": "c440bc43-5eca-4022-ea26-0567ba7f775a",
    "papermill": {
     "duration": 0.062224,
     "end_time": "2023-07-18T07:43:31.590554",
     "exception": false,
     "start_time": "2023-07-18T07:43:31.528330",
     "status": "completed"
    },
    "tags": []
   },
   "outputs": [
    {
     "data": {
      "text/html": [
       "<div>\n",
       "<style scoped>\n",
       "    .dataframe tbody tr th:only-of-type {\n",
       "        vertical-align: middle;\n",
       "    }\n",
       "\n",
       "    .dataframe tbody tr th {\n",
       "        vertical-align: top;\n",
       "    }\n",
       "\n",
       "    .dataframe thead th {\n",
       "        text-align: right;\n",
       "    }\n",
       "</style>\n",
       "<table border=\"1\" class=\"dataframe\">\n",
       "  <thead>\n",
       "    <tr style=\"text-align: right;\">\n",
       "      <th></th>\n",
       "      <th>row id</th>\n",
       "      <th>sales</th>\n",
       "      <th>quantity</th>\n",
       "      <th>discount</th>\n",
       "      <th>profit</th>\n",
       "      <th>shipping cost</th>\n",
       "    </tr>\n",
       "  </thead>\n",
       "  <tbody>\n",
       "    <tr>\n",
       "      <th>count</th>\n",
       "      <td>51290.00000</td>\n",
       "      <td>51290.000000</td>\n",
       "      <td>51290.000000</td>\n",
       "      <td>51290.000000</td>\n",
       "      <td>51290.000000</td>\n",
       "      <td>51290.000000</td>\n",
       "    </tr>\n",
       "    <tr>\n",
       "      <th>mean</th>\n",
       "      <td>25645.50000</td>\n",
       "      <td>246.490581</td>\n",
       "      <td>3.476545</td>\n",
       "      <td>0.142908</td>\n",
       "      <td>28.610982</td>\n",
       "      <td>26.375818</td>\n",
       "    </tr>\n",
       "    <tr>\n",
       "      <th>std</th>\n",
       "      <td>14806.29199</td>\n",
       "      <td>487.565361</td>\n",
       "      <td>2.278766</td>\n",
       "      <td>0.212280</td>\n",
       "      <td>174.340972</td>\n",
       "      <td>57.296810</td>\n",
       "    </tr>\n",
       "    <tr>\n",
       "      <th>min</th>\n",
       "      <td>1.00000</td>\n",
       "      <td>0.444000</td>\n",
       "      <td>1.000000</td>\n",
       "      <td>0.000000</td>\n",
       "      <td>-6599.978000</td>\n",
       "      <td>0.002000</td>\n",
       "    </tr>\n",
       "    <tr>\n",
       "      <th>25%</th>\n",
       "      <td>12823.25000</td>\n",
       "      <td>30.758625</td>\n",
       "      <td>2.000000</td>\n",
       "      <td>0.000000</td>\n",
       "      <td>0.000000</td>\n",
       "      <td>2.610000</td>\n",
       "    </tr>\n",
       "    <tr>\n",
       "      <th>50%</th>\n",
       "      <td>25645.50000</td>\n",
       "      <td>85.053000</td>\n",
       "      <td>3.000000</td>\n",
       "      <td>0.000000</td>\n",
       "      <td>9.240000</td>\n",
       "      <td>7.790000</td>\n",
       "    </tr>\n",
       "    <tr>\n",
       "      <th>75%</th>\n",
       "      <td>38467.75000</td>\n",
       "      <td>251.053200</td>\n",
       "      <td>5.000000</td>\n",
       "      <td>0.200000</td>\n",
       "      <td>36.810000</td>\n",
       "      <td>24.450000</td>\n",
       "    </tr>\n",
       "    <tr>\n",
       "      <th>max</th>\n",
       "      <td>51290.00000</td>\n",
       "      <td>22638.480000</td>\n",
       "      <td>14.000000</td>\n",
       "      <td>0.850000</td>\n",
       "      <td>8399.976000</td>\n",
       "      <td>933.570000</td>\n",
       "    </tr>\n",
       "  </tbody>\n",
       "</table>\n",
       "</div>"
      ],
      "text/plain": [
       "            row id         sales      quantity      discount        profit  \\\n",
       "count  51290.00000  51290.000000  51290.000000  51290.000000  51290.000000   \n",
       "mean   25645.50000    246.490581      3.476545      0.142908     28.610982   \n",
       "std    14806.29199    487.565361      2.278766      0.212280    174.340972   \n",
       "min        1.00000      0.444000      1.000000      0.000000  -6599.978000   \n",
       "25%    12823.25000     30.758625      2.000000      0.000000      0.000000   \n",
       "50%    25645.50000     85.053000      3.000000      0.000000      9.240000   \n",
       "75%    38467.75000    251.053200      5.000000      0.200000     36.810000   \n",
       "max    51290.00000  22638.480000     14.000000      0.850000   8399.976000   \n",
       "\n",
       "       shipping cost  \n",
       "count   51290.000000  \n",
       "mean       26.375818  \n",
       "std        57.296810  \n",
       "min         0.002000  \n",
       "25%         2.610000  \n",
       "50%         7.790000  \n",
       "75%        24.450000  \n",
       "max       933.570000  "
      ]
     },
     "execution_count": 12,
     "metadata": {},
     "output_type": "execute_result"
    }
   ],
   "source": [
    "# 5 - point summary\n",
    "df.describe()"
   ]
  },
  {
   "cell_type": "code",
   "execution_count": 13,
   "id": "fb0c665f",
   "metadata": {
    "execution": {
     "iopub.execute_input": "2023-07-18T07:43:31.613015Z",
     "iopub.status.busy": "2023-07-18T07:43:31.611687Z",
     "iopub.status.idle": "2023-07-18T07:43:31.887088Z",
     "shell.execute_reply": "2023-07-18T07:43:31.885972Z"
    },
    "id": "3uKwjTCV35ZJ",
    "outputId": "4744696e-0b05-43c5-f904-2ca42d56b770",
    "papermill": {
     "duration": 0.289355,
     "end_time": "2023-07-18T07:43:31.889629",
     "exception": false,
     "start_time": "2023-07-18T07:43:31.600274",
     "status": "completed"
    },
    "tags": []
   },
   "outputs": [
    {
     "name": "stdout",
     "output_type": "stream",
     "text": [
      "<class 'pandas.core.frame.DataFrame'>\n",
      "RangeIndex: 51290 entries, 0 to 51289\n",
      "Data columns (total 23 columns):\n",
      " #   Column          Non-Null Count  Dtype         \n",
      "---  ------          --------------  -----         \n",
      " 0   row id          51290 non-null  int64         \n",
      " 1   order id        51290 non-null  object        \n",
      " 2   order date      51290 non-null  datetime64[ns]\n",
      " 3   ship date       51290 non-null  datetime64[ns]\n",
      " 4   ship mode       51290 non-null  object        \n",
      " 5   customer id     51290 non-null  object        \n",
      " 6   customer name   51290 non-null  object        \n",
      " 7   segment         51290 non-null  object        \n",
      " 8   city            51290 non-null  object        \n",
      " 9   state           51290 non-null  object        \n",
      " 10  country         51290 non-null  object        \n",
      " 11  market          51290 non-null  object        \n",
      " 12  region          51290 non-null  object        \n",
      " 13  product id      51290 non-null  object        \n",
      " 14  category        51290 non-null  object        \n",
      " 15  sub-category    51290 non-null  object        \n",
      " 16  product name    51290 non-null  object        \n",
      " 17  sales           51290 non-null  float64       \n",
      " 18  quantity        51290 non-null  int64         \n",
      " 19  discount        51290 non-null  float64       \n",
      " 20  profit          51290 non-null  float64       \n",
      " 21  shipping cost   51290 non-null  float64       \n",
      " 22  order priority  51290 non-null  object        \n",
      "dtypes: datetime64[ns](2), float64(4), int64(2), object(15)\n",
      "memory usage: 9.0+ MB\n"
     ]
    }
   ],
   "source": [
    "# data info\n",
    "df.info()"
   ]
  },
  {
   "cell_type": "code",
   "execution_count": 14,
   "id": "ba32acad",
   "metadata": {
    "execution": {
     "iopub.execute_input": "2023-07-18T07:43:31.911446Z",
     "iopub.status.busy": "2023-07-18T07:43:31.911049Z",
     "iopub.status.idle": "2023-07-18T07:43:32.021770Z",
     "shell.execute_reply": "2023-07-18T07:43:32.020653Z"
    },
    "id": "_WLj29tX4c7V",
    "outputId": "9b95e0f9-8a05-461e-ddea-b2d3580aa9b5",
    "papermill": {
     "duration": 0.124484,
     "end_time": "2023-07-18T07:43:32.024313",
     "exception": false,
     "start_time": "2023-07-18T07:43:31.899829",
     "status": "completed"
    },
    "tags": []
   },
   "outputs": [
    {
     "data": {
      "text/plain": [
       "row id            51290\n",
       "order id          25035\n",
       "order date         1430\n",
       "ship date          1464\n",
       "ship mode             4\n",
       "customer id        1590\n",
       "customer name       795\n",
       "segment               3\n",
       "city               3636\n",
       "state              1094\n",
       "country             147\n",
       "market                7\n",
       "region               13\n",
       "product id        10292\n",
       "category              3\n",
       "sub-category         17\n",
       "product name       3788\n",
       "sales             24988\n",
       "quantity             14\n",
       "discount             27\n",
       "profit            27085\n",
       "shipping cost     16936\n",
       "order priority        4\n",
       "dtype: int64"
      ]
     },
     "execution_count": 14,
     "metadata": {},
     "output_type": "execute_result"
    }
   ],
   "source": [
    "# counts unique value in each row\n",
    "df.nunique()"
   ]
  },
  {
   "cell_type": "markdown",
   "id": "985cae11",
   "metadata": {
    "id": "xS2KCrFY4yyD",
    "papermill": {
     "duration": 0.009781,
     "end_time": "2023-07-18T07:43:32.044491",
     "exception": false,
     "start_time": "2023-07-18T07:43:32.034710",
     "status": "completed"
    },
    "tags": []
   },
   "source": [
    "**EDA**"
   ]
  },
  {
   "cell_type": "code",
   "execution_count": 15,
   "id": "27b1e4b2",
   "metadata": {
    "execution": {
     "iopub.execute_input": "2023-07-18T07:43:32.066912Z",
     "iopub.status.busy": "2023-07-18T07:43:32.066085Z",
     "iopub.status.idle": "2023-07-18T07:43:32.367706Z",
     "shell.execute_reply": "2023-07-18T07:43:32.366121Z"
    },
    "id": "-W9y8XfPLiL5",
    "outputId": "3be735e1-3c6d-49af-dd2e-30342ee39232",
    "papermill": {
     "duration": 0.317462,
     "end_time": "2023-07-18T07:43:32.371930",
     "exception": false,
     "start_time": "2023-07-18T07:43:32.054468",
     "status": "completed"
    },
    "tags": []
   },
   "outputs": [
    {
     "data": {
      "image/png": "[encoded data removed]",
      "text/plain": [
       "<Figure size 640x480 with 1 Axes>"
      ]
     },
     "metadata": {},
     "output_type": "display_data"
    }
   ],
   "source": [
    "# Calculate the top 5 profits by shipment mode\n",
    "top_5_profit_ship_modes = df.groupby('ship mode')['profit'].sum().nlargest(5)\n",
    "top_5_profit_ship_modes\n",
    "# Plotting the pie chart\n",
    "plt.pie(top_5_profit_ship_modes, labels=top_5_profit_ship_modes.index, autopct='%1.1f%%')\n",
    "plt.title('Top 5 Ship Modes by Profit')\n",
    "plt.tight_layout()\n",
    "plt.show()"
   ]
  },
  {
   "cell_type": "markdown",
   "id": "67f4120e",
   "metadata": {
    "id": "Efwf7crjXTv9",
    "papermill": {
     "duration": 0.010436,
     "end_time": "2023-07-18T07:43:32.400829",
     "exception": false,
     "start_time": "2023-07-18T07:43:32.390393",
     "status": "completed"
    },
    "tags": []
   },
   "source": [
    "**from the above graph it is understood that the standard class is giving 55.5 % more profit than the same day ship mode.**"
   ]
  },
  {
   "cell_type": "code",
   "execution_count": 16,
   "id": "c65aa60b",
   "metadata": {
    "execution": {
     "iopub.execute_input": "2023-07-18T07:43:32.425194Z",
     "iopub.status.busy": "2023-07-18T07:43:32.424266Z",
     "iopub.status.idle": "2023-07-18T07:43:32.780232Z",
     "shell.execute_reply": "2023-07-18T07:43:32.779062Z"
    },
    "id": "LI9DfMquarmP",
    "outputId": "50ec9a44-9e76-450b-a89e-b148f9207478",
    "papermill": {
     "duration": 0.371401,
     "end_time": "2023-07-18T07:43:32.782853",
     "exception": false,
     "start_time": "2023-07-18T07:43:32.411452",
     "status": "completed"
    },
    "tags": []
   },
   "outputs": [
    {
     "name": "stdout",
     "output_type": "stream",
     "text": [
      "region\n",
      "Central           2.822303e+06\n",
      "South             1.600907e+06\n",
      "North             1.248166e+06\n",
      "Oceania           1.100185e+06\n",
      "Southeast Asia    8.844232e+05\n",
      "Name: sales, dtype: float64\n"
     ]
    },
    {
     "data": {
      "image/png": "[encoded data removed]",
      "text/plain": [
       "<Figure size 640x480 with 1 Axes>"
      ]
     },
     "metadata": {},
     "output_type": "display_data"
    }
   ],
   "source": [
    "# Calculate the top 5 sales by region\n",
    "top_5_sales_regions = df.groupby('region')['sales'].sum().nlargest(5)\n",
    "print(f\"{top_5_sales_regions}\")\n",
    "# Plotting the bar chart\n",
    "plt.bar(top_5_sales_regions.index, top_5_sales_regions)\n",
    "plt.xlabel('Region')\n",
    "plt.ylabel('Sales')\n",
    "plt.title('Top 10 Sales by Region')\n",
    "plt.xticks(rotation=45)\n",
    "plt.tight_layout()\n",
    "plt.show()"
   ]
  },
  {
   "cell_type": "markdown",
   "id": "20e54af9",
   "metadata": {
    "id": "8s0zcI6-_Rj8",
    "papermill": {
     "duration": 0.011106,
     "end_time": "2023-07-18T07:43:32.805512",
     "exception": false,
     "start_time": "2023-07-18T07:43:32.794406",
     "status": "completed"
    },
    "tags": []
   },
   "source": [
    "**Maximum sales are coming from central region**"
   ]
  },
  {
   "cell_type": "code",
   "execution_count": 17,
   "id": "4605bd31",
   "metadata": {
    "execution": {
     "iopub.execute_input": "2023-07-18T07:43:32.832824Z",
     "iopub.status.busy": "2023-07-18T07:43:32.831961Z",
     "iopub.status.idle": "2023-07-18T07:43:33.281796Z",
     "shell.execute_reply": "2023-07-18T07:43:33.280672Z"
    },
    "id": "AgjbNal05Am9",
    "outputId": "653077ac-8088-4690-9681-3ede1e36be92",
    "papermill": {
     "duration": 0.465442,
     "end_time": "2023-07-18T07:43:33.284559",
     "exception": false,
     "start_time": "2023-07-18T07:43:32.819117",
     "status": "completed"
    },
    "tags": []
   },
   "outputs": [
    {
     "name": "stdout",
     "output_type": "stream",
     "text": [
      "product name\n",
      "Canon imageCLASS 2200 Advanced Copier    25199.9280\n",
      "Cisco Smart Phone, Full Size             17238.5206\n",
      "Motorola Smart Phone, Full Size          17027.1130\n",
      "Hoover Stove, Red                        11807.9690\n",
      "Sauder Classic Bookcase, Traditional     10672.0730\n",
      "Name: profit, dtype: float64\n"
     ]
    },
    {
     "data": {
      "image/png": "[encoded data removed]",
      "text/plain": [
       "<Figure size 640x480 with 1 Axes>"
      ]
     },
     "metadata": {},
     "output_type": "display_data"
    }
   ],
   "source": [
    "# Calculate the top 5 profits by shipment mode\n",
    "top_5_profit_product_names = df.groupby('product name')['profit'].sum().nlargest(5)\n",
    "print(top_5_profit_product_names)\n",
    "# Plotting the pie chart\n",
    "plt.pie(top_5_profit_product_names, labels=top_5_profit_product_names.index, autopct='%1.1f%%')\n",
    "plt.title('Top 5 Product Names by Profit')\n",
    "plt.tight_layout()\n",
    "plt.show()"
   ]
  },
  {
   "cell_type": "markdown",
   "id": "bf1bc2cc",
   "metadata": {
    "id": "Zp7W4VecZzkV",
    "papermill": {
     "duration": 0.012083,
     "end_time": "2023-07-18T07:43:33.309006",
     "exception": false,
     "start_time": "2023-07-18T07:43:33.296923",
     "status": "completed"
    },
    "tags": []
   },
   "source": [
    "**Canon imageCLASS 2200 Advanced Copier gives more profit that is 30.8 % and minimum profit is from Sauder Classic Bookcase that is 13 %**"
   ]
  },
  {
   "cell_type": "code",
   "execution_count": 18,
   "id": "8b428478",
   "metadata": {
    "execution": {
     "iopub.execute_input": "2023-07-18T07:43:33.335215Z",
     "iopub.status.busy": "2023-07-18T07:43:33.334802Z",
     "iopub.status.idle": "2023-07-18T07:43:33.746977Z",
     "shell.execute_reply": "2023-07-18T07:43:33.746092Z"
    },
    "id": "3s5zimsRU9U5",
    "outputId": "6a1cc35a-e9cc-45cc-b83b-3533c6395a3b",
    "papermill": {
     "duration": 0.428182,
     "end_time": "2023-07-18T07:43:33.749338",
     "exception": false,
     "start_time": "2023-07-18T07:43:33.321156",
     "status": "completed"
    },
    "tags": []
   },
   "outputs": [
    {
     "name": "stdout",
     "output_type": "stream",
     "text": [
      "country\n",
      "United States     2.297201e+06\n",
      "Australia         9.252359e+05\n",
      "France            8.589311e+05\n",
      "China             7.005620e+05\n",
      "Germany           6.288400e+05\n",
      "Mexico            6.225906e+05\n",
      "India             5.896501e+05\n",
      "United Kingdom    5.285763e+05\n",
      "Indonesia         4.048875e+05\n",
      "Brazil            3.611064e+05\n",
      "Name: sales, dtype: float64\n"
     ]
    },
    {
     "data": {
      "image/png": "[encoded data removed]",
      "text/plain": [
       "<Figure size 640x480 with 1 Axes>"
      ]
     },
     "metadata": {},
     "output_type": "display_data"
    }
   ],
   "source": [
    "# Calculate the top 10 sales by region\n",
    "top_10_sales_by_country = df.groupby('country')['sales'].sum().nlargest(10)\n",
    "print(f\"{top_10_sales_by_country}\")\n",
    "# Plotting the bar chart\n",
    "plt.plot(top_10_sales_by_country.index, top_10_sales_by_country)\n",
    "plt.xlabel('Country')\n",
    "plt.ylabel('Sales')\n",
    "plt.title('Top 10 Sales by Country')\n",
    "plt.xticks(rotation=45)\n",
    "plt.tight_layout()\n",
    "plt.show()"
   ]
  },
  {
   "cell_type": "markdown",
   "id": "6033c7ff",
   "metadata": {
    "id": "FfH09wA9Vfq-",
    "papermill": {
     "duration": 0.012936,
     "end_time": "2023-07-18T07:43:33.775687",
     "exception": false,
     "start_time": "2023-07-18T07:43:33.762751",
     "status": "completed"
    },
    "tags": []
   },
   "source": [
    " The highest sale is coming from the country US that is 42.5% and brazil giving minimum sale of 4.6 %"
   ]
  },
  {
   "cell_type": "code",
   "execution_count": null,
   "id": "eecf4b85",
   "metadata": {
    "id": "PZarxkASa3zr",
    "papermill": {
     "duration": 0.01288,
     "end_time": "2023-07-18T07:43:33.801617",
     "exception": false,
     "start_time": "2023-07-18T07:43:33.788737",
     "status": "completed"
    },
    "tags": []
   },
   "outputs": [],
   "source": []
  }
 ],
 "metadata": {
  "kernelspec": {
   "display_name": "Python 3",
   "language": "python",
   "name": "python3"
  },
  "language_info": {
   "codemirror_mode": {
    "name": "ipython",
    "version": 3
   },
   "file_extension": ".py",
   "mimetype": "text/x-python",
   "name": "python",
   "nbconvert_exporter": "python",
   "pygments_lexer": "ipython3",
   "version": "3.10.12"
  },
  "papermill": {
   "default_parameters": {},
   "duration": 45.672199,
   "end_time": "2023-07-18T07:43:34.839510",
   "environment_variables": {},
   "exception": null,
   "input_path": "__notebook__.ipynb",
   "output_path": "__notebook__.ipynb",
   "parameters": {},
   "start_time": "2023-07-18T07:42:49.167311",
   "version": "2.4.0"
  }
 },
 "nbformat": 4,
 "nbformat_minor": 5
}
